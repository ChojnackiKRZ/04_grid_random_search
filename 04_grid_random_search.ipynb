{
 "cells": [
  {
   "cell_type": "code",
   "execution_count": 45,
   "metadata": {},
   "outputs": [],
   "source": [
    "from sklearn.datasets import load_iris, load_diabetes,load_wine\n",
    "from sklearn.dummy import DummyClassifier\n",
    "from sklearn.linear_model import LinearRegression, LogisticRegression\n",
    "from sklearn.metrics import r2_score,mean_squared_error\n",
    "from sklearn import linear_model\n",
    "from sklearn.neighbors import KNeighborsClassifier\n",
    "from sklearn.model_selection import KFold, StratifiedKFold,cross_val_score, GridSearchCV, RandomizedSearchCV,train_test_split\n",
    "from sklearn.pipeline import Pipeline\n",
    "from sklearn.ensemble import RandomForestClassifier\n",
    "import numpy as np\n",
    "from matplotlib import pyplot as plt\n",
    "from sklearn.neighbors import KNeighborsClassifier\n",
    "import pandas as pd\n",
    "from statistics import mean\n",
    "from hpsklearn import HyperoptEstimator, svc,any_classifier\n",
    "from hyperopt import tpe"
   ]
  },
  {
   "cell_type": "code",
   "execution_count": 29,
   "metadata": {},
   "outputs": [
    {
     "data": {
      "text/plain": [
       "0.9111111111111111"
      ]
     },
     "execution_count": 29,
     "metadata": {},
     "output_type": "execute_result"
    }
   ],
   "source": [
    "wine = load_wine()\n",
    "\n",
    "features, target = wine.data, wine.target\n",
    "\n",
    "features_train, features_test, target_train, target_test = train_test_split(features, target, random_state=0)\n",
    "\n",
    "logistic_reg = LogisticRegression(random_state=0,max_iter=5000,solver=\"liblinear\",penalty=\"l1\",C=2.0).fit(features_train,target_train)\n",
    "logistic_reg.score(features_test, target_test)\n"
   ]
  },
  {
   "cell_type": "code",
   "execution_count": 30,
   "metadata": {},
   "outputs": [],
   "source": [
    "C_value= np.linspace(1.0,10000.0,num=1000,dtype=float)"
   ]
  },
  {
   "cell_type": "code",
   "execution_count": 31,
   "metadata": {},
   "outputs": [
    {
     "name": "stdout",
     "output_type": "stream",
     "text": [
      "Fitting 5 folds for each of 2000 candidates, totalling 10000 fits\n"
     ]
    },
    {
     "data": {
      "text/plain": [
       "GridSearchCV(estimator=LogisticRegression(C=2.0, max_iter=5000, penalty='l1',\n",
       "                                          random_state=0, solver='liblinear'),\n",
       "             n_jobs=-2,\n",
       "             param_grid={'C': array([1.00000000e+00, 1.10090090e+01, 2.10180180e+01, 3.10270270e+01,\n",
       "       4.10360360e+01, 5.10450450e+01, 6.10540541e+01, 7.10630631e+01,\n",
       "       8.10720721e+01, 9.10810811e+01, 1.01090090e+02, 1.11099099e+02,\n",
       "       1.21108108e+02, 1.31117117e+...\n",
       "       9.76979279e+03, 9.77980180e+03, 9.78981081e+03, 9.79981982e+03,\n",
       "       9.80982883e+03, 9.81983784e+03, 9.82984685e+03, 9.83985586e+03,\n",
       "       9.84986486e+03, 9.85987387e+03, 9.86988288e+03, 9.87989189e+03,\n",
       "       9.88990090e+03, 9.89990991e+03, 9.90991892e+03, 9.91992793e+03,\n",
       "       9.92993694e+03, 9.93994595e+03, 9.94995495e+03, 9.95996396e+03,\n",
       "       9.96997297e+03, 9.97998198e+03, 9.98999099e+03, 1.00000000e+04]),\n",
       "                         'penalty': ('l1', 'l2')},\n",
       "             verbose=1)"
      ]
     },
     "execution_count": 31,
     "metadata": {},
     "output_type": "execute_result"
    }
   ],
   "source": [
    "\n",
    "parameters = {'penalty':('l1', 'l2'), 'C':C_value}\n",
    "grid_search = GridSearchCV(logistic_reg, parameters,verbose=1,n_jobs=-2)\n",
    "grid_search.fit(features_train,target_train)"
   ]
  },
  {
   "cell_type": "code",
   "execution_count": 32,
   "metadata": {},
   "outputs": [
    {
     "name": "stdout",
     "output_type": "stream",
     "text": [
      "l2\n",
      "11.00900900900901\n"
     ]
    }
   ],
   "source": [
    "#the best parameters for grid search\n",
    "print(grid_search.best_estimator_.get_params()['penalty'])\n",
    "print(grid_search.best_estimator_.get_params()['C'])\n"
   ]
  },
  {
   "cell_type": "code",
   "execution_count": 33,
   "metadata": {},
   "outputs": [
    {
     "name": "stdout",
     "output_type": "stream",
     "text": [
      "8\n"
     ]
    }
   ],
   "source": [
    "import os\n",
    "print(os.cpu_count())"
   ]
  },
  {
   "cell_type": "code",
   "execution_count": 34,
   "metadata": {},
   "outputs": [
    {
     "name": "stdout",
     "output_type": "stream",
     "text": [
      "Fitting 5 folds for each of 100 candidates, totalling 500 fits\n"
     ]
    },
    {
     "data": {
      "text/plain": [
       "RandomizedSearchCV(estimator=LogisticRegression(C=2.0, max_iter=5000,\n",
       "                                                penalty='l1', random_state=0,\n",
       "                                                solver='liblinear'),\n",
       "                   n_iter=100, n_jobs=-1,\n",
       "                   param_distributions={'C': array([1.00000000e+00, 1.10090090e+01, 2.10180180e+01, 3.10270270e+01,\n",
       "       4.10360360e+01, 5.10450450e+01, 6.10540541e+01, 7.10630631e+01,\n",
       "       8.10720721e+01, 9.10810811e+01, 1.01090090e+02, 1.11099099e+02,\n",
       "       1...\n",
       "       9.76979279e+03, 9.77980180e+03, 9.78981081e+03, 9.79981982e+03,\n",
       "       9.80982883e+03, 9.81983784e+03, 9.82984685e+03, 9.83985586e+03,\n",
       "       9.84986486e+03, 9.85987387e+03, 9.86988288e+03, 9.87989189e+03,\n",
       "       9.88990090e+03, 9.89990991e+03, 9.90991892e+03, 9.91992793e+03,\n",
       "       9.92993694e+03, 9.93994595e+03, 9.94995495e+03, 9.95996396e+03,\n",
       "       9.96997297e+03, 9.97998198e+03, 9.98999099e+03, 1.00000000e+04]),\n",
       "                                        'penalty': ('l1', 'l2')},\n",
       "                   verbose=1)"
      ]
     },
     "execution_count": 34,
     "metadata": {},
     "output_type": "execute_result"
    }
   ],
   "source": [
    "parameters = {'penalty':('l1', 'l2'), 'C':C_value}\n",
    "Randomized_search = RandomizedSearchCV(logistic_reg, parameters,verbose=1,n_jobs=-1,n_iter=100)\n",
    "Randomized_search.fit(features_train,target_train)"
   ]
  },
  {
   "cell_type": "code",
   "execution_count": 35,
   "metadata": {},
   "outputs": [
    {
     "name": "stdout",
     "output_type": "stream",
     "text": [
      "l2\n",
      "831.7477477477478\n"
     ]
    }
   ],
   "source": [
    "#the best parameters for grid search\n",
    "print(Randomized_search.best_estimator_.get_params()['penalty'])\n",
    "print(Randomized_search.best_estimator_.get_params()['C'])"
   ]
  },
  {
   "cell_type": "code",
   "execution_count": 36,
   "metadata": {},
   "outputs": [],
   "source": [
    "logistic_reg_2 = LogisticRegression(random_state=0,max_iter=5000,solver=\"liblinear\",penalty=\"l1\",C=2.0)\n",
    "\n",
    "pipe = Pipeline([(\"classifier\",RandomForestClassifier())])\n",
    "\n",
    "search_space = [\n",
    "                {\n",
    "                \"classifier\":[logistic_reg_2],\n",
    "                \"classifier__penalty\":['l1','l2'],\n",
    "                \"classifier__C\":C_value\n",
    "                },\n",
    "                {\n",
    "                \"classifier\":[RandomForestClassifier()],\n",
    "                \"classifier__n_estimators\":[10,100,1000],\n",
    "                \"classifier__max_features\":[1,2,3]\n",
    "                },\n",
    "                {\n",
    "                \"classifier\":[KNeighborsClassifier()],\n",
    "                \"classifier__n_neighbors\":[3,5,7]\n",
    "                }\n",
    "                ]"
   ]
  },
  {
   "cell_type": "code",
   "execution_count": 37,
   "metadata": {},
   "outputs": [
    {
     "name": "stdout",
     "output_type": "stream",
     "text": [
      "Fitting 5 folds for each of 2012 candidates, totalling 10060 fits\n"
     ]
    }
   ],
   "source": [
    "multi_grid_search = GridSearchCV(pipe, search_space,verbose=1,n_jobs=-2)\n",
    "best_modele = multi_grid_search.fit(features_train,target_train)"
   ]
  },
  {
   "cell_type": "code",
   "execution_count": 52,
   "metadata": {},
   "outputs": [
    {
     "name": "stdout",
     "output_type": "stream",
     "text": [
      "100%|██████████| 1/1 [00:02<00:00,  2.97s/trial, best loss: 0.6296296296296297]\n",
      "100%|██████████| 2/2 [00:06<00:00,  6.17s/trial, best loss: 0.03703703703703709]\n",
      "100%|██████████| 3/3 [00:02<00:00,  2.69s/trial, best loss: 0.03703703703703709]\n",
      "100%|██████████| 4/4 [00:02<00:00,  2.92s/trial, best loss: 0.03703703703703709]\n",
      "100%|██████████| 5/5 [00:03<00:00,  3.63s/trial, best loss: 0.03703703703703709]\n",
      "100%|██████████| 6/6 [00:02<00:00,  2.72s/trial, best loss: 0.03703703703703709]\n",
      "100%|██████████| 7/7 [00:02<00:00,  2.74s/trial, best loss: 0.03703703703703709]\n",
      "100%|██████████| 8/8 [00:03<00:00,  3.08s/trial, best loss: 0.03703703703703709]\n",
      "100%|██████████| 9/9 [00:03<00:00,  3.00s/trial, best loss: 0.03703703703703709]\n",
      "100%|██████████| 10/10 [00:02<00:00,  2.83s/trial, best loss: 0.03703703703703709]\n",
      "100%|██████████| 11/11 [00:02<00:00,  2.86s/trial, best loss: 0.03703703703703709]\n",
      "100%|██████████| 12/12 [00:02<00:00,  2.86s/trial, best loss: 0.03703703703703709]\n",
      "100%|██████████| 13/13 [00:02<00:00,  2.99s/trial, best loss: 0.03703703703703709]\n",
      "100%|██████████| 14/14 [00:02<00:00,  2.72s/trial, best loss: 0.03703703703703709]\n",
      "100%|██████████| 15/15 [00:02<00:00,  2.76s/trial, best loss: 0.03703703703703709]\n",
      "100%|██████████| 16/16 [00:02<00:00,  2.73s/trial, best loss: 0.03703703703703709]\n",
      "100%|██████████| 17/17 [00:02<00:00,  2.86s/trial, best loss: 0.03703703703703709]\n",
      "0.9777777777777777\n"
     ]
    }
   ],
   "source": [
    "estim = HyperoptEstimator(classifier=any_classifier(\"my_clf\"),\n",
    "                              preprocessing=[],\n",
    "                              max_evals=17,\n",
    "                              n_jobs=-1,\n",
    "                              algo=tpe.suggest,\n",
    "                              trial_timeout=300)\n",
    "\n",
    "    # Search the hyperparameter space based on the data\n",
    "estim.fit(features_train, target_train)\n",
    "\n",
    "    # Show the results\n",
    "print(estim.score(features_test, target_test))"
   ]
  },
  {
   "cell_type": "code",
   "execution_count": null,
   "metadata": {},
   "outputs": [],
   "source": []
  }
 ],
 "metadata": {
  "interpreter": {
   "hash": "458921dbe1c9b1116488aece82fc8183a35eb51f0a7aeffeb773918d1e5fa3cb"
  },
  "kernelspec": {
   "display_name": "Python 3 (ipykernel)",
   "language": "python",
   "name": "python3"
  },
  "language_info": {
   "codemirror_mode": {
    "name": "ipython",
    "version": 3
   },
   "file_extension": ".py",
   "mimetype": "text/x-python",
   "name": "python",
   "nbconvert_exporter": "python",
   "pygments_lexer": "ipython3",
   "version": "3.8.12"
  }
 },
 "nbformat": 4,
 "nbformat_minor": 2
}
